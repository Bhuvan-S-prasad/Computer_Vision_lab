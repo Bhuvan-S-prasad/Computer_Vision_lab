{
 "cells": [
  {
   "cell_type": "markdown",
   "id": "e3251111-b14f-415d-89f1-9bb704204771",
   "metadata": {},
   "source": [
    "## Lab Program 1: Image Convolution and Edge Detection Using Sobel operation"
   ]
  },
  {
   "cell_type": "code",
   "execution_count": null,
   "id": "cbc3a23b-7ce3-4508-8b31-da242b2c5ff0",
   "metadata": {},
   "outputs": [],
   "source": [
    "import cv2\n",
    "import matplotlib.pyplot as plt\n"
   ]
  },
  {
   "cell_type": "code",
   "execution_count": null,
   "id": "f8189629-b5fd-4952-b8fa-a7550cb3e311",
   "metadata": {},
   "outputs": [],
   "source": [
    "image = cv2.imread('C:/Users/bhuva/Desktop/MODULE_2/Terpsiphone_paradisi_-near_Amaya_Lake,_Dambulla,_Sri_Lanka-8.jpg', cv2.IMREAD_GRAYSCALE)\n",
    "image"
   ]
  },
  {
   "cell_type": "code",
   "execution_count": 12,
   "id": "4a3b8d0f-d262-405f-a187-fec072313113",
   "metadata": {},
   "outputs": [
    {
     "ename": "NameError",
     "evalue": "name 'cv2' is not defined",
     "output_type": "error",
     "traceback": [
      "\u001b[1;31m---------------------------------------------------------------------------\u001b[0m",
      "\u001b[1;31mNameError\u001b[0m                                 Traceback (most recent call last)",
      "Cell \u001b[1;32mIn[12], line 2\u001b[0m\n\u001b[0;32m      1\u001b[0m \u001b[38;5;66;03m# Apply Gaussian blur to reduce noise\u001b[39;00m\n\u001b[1;32m----> 2\u001b[0m blurred_image \u001b[38;5;241m=\u001b[39m cv2\u001b[38;5;241m.\u001b[39mGaussianBlur(image, (\u001b[38;5;241m5\u001b[39m, \u001b[38;5;241m5\u001b[39m), \u001b[38;5;241m1.4\u001b[39m)\n\u001b[0;32m      4\u001b[0m \u001b[38;5;66;03m# Perform Canny edge detection\u001b[39;00m\n\u001b[0;32m      5\u001b[0m edges \u001b[38;5;241m=\u001b[39m cv2\u001b[38;5;241m.\u001b[39mCanny(blurred_image, \u001b[38;5;241m100\u001b[39m, \u001b[38;5;241m200\u001b[39m)\n",
      "\u001b[1;31mNameError\u001b[0m: name 'cv2' is not defined"
     ]
    }
   ],
   "source": [
    "# Apply Gaussian blur to reduce noise\n",
    "blurred_image = cv2.GaussianBlur(image, (5, 5), 1.4)\n",
    "\n",
    "# Perform Canny edge detection\n",
    "edges = cv2.Canny(blurred_image, 100, 200)\n",
    "\n",
    "# Display the original and edge-detected images\n",
    "plt.figure(figsize=(10, 5))\n",
    "plt.subplot(1, 2, 1)\n",
    "plt.title(\"Original Image\")\n",
    "plt.imshow(image, cmap='gray')\n",
    "plt.subplot(1, 2, 2)\n",
    "plt.title(\"Edge Detected Image\")\n",
    "plt.imshow(edges, cmap='gray')\n",
    "plt.show()\n"
   ]
  },
  {
   "cell_type": "code",
   "execution_count": null,
   "id": "3f46222c-67ba-4602-ba1a-86fddcf66080",
   "metadata": {},
   "outputs": [],
   "source": []
  }
 ],
 "metadata": {
  "kernelspec": {
   "display_name": "Python 3 (ipykernel)",
   "language": "python",
   "name": "python3"
  },
  "language_info": {
   "codemirror_mode": {
    "name": "ipython",
    "version": 3
   },
   "file_extension": ".py",
   "mimetype": "text/x-python",
   "name": "python",
   "nbconvert_exporter": "python",
   "pygments_lexer": "ipython3",
   "version": "3.12.3"
  }
 },
 "nbformat": 4,
 "nbformat_minor": 5
}
